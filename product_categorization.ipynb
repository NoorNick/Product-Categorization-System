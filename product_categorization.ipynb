{
 "cells": [
  {
   "cell_type": "markdown",
   "id": "621d3900",
   "metadata": {},
   "source": [
    "## Product Categorization System"
   ]
  },
  {
   "cell_type": "markdown",
   "id": "16914342",
   "metadata": {},
   "source": [
    "### Libraries needed"
   ]
  },
  {
   "cell_type": "code",
   "execution_count": 38,
   "id": "41fa51fb",
   "metadata": {},
   "outputs": [],
   "source": [
    "import numpy as np\n",
    "import pandas as pd\n",
    "from sklearn.naive_bayes import GaussianNB, MultinomialNB, BernoulliNB\n",
    "from sklearn.model_selection import train_test_split\n",
    "from sklearn.metrics import accuracy_score, classification_report"
   ]
  },
  {
   "cell_type": "markdown",
   "id": "3131e37d",
   "metadata": {},
   "source": [
    "### prepare your data"
   ]
  },
  {
   "cell_type": "code",
   "execution_count": 39,
   "id": "4604eb63",
   "metadata": {},
   "outputs": [],
   "source": [
    "from sklearn.model_selection import train_test_split\n",
    "\n",
    "# Sample product data\n",
    "products = [\n",
    "    # Clothing\n",
    "    \"blue cotton t-shirt size M\",\n",
    "    \"denim jeans blue\",\n",
    "    \"red hoodie size L\",\n",
    "    \"green polo shirt size S\",\n",
    "    \"black tank top\",\n",
    "    \"white dress shirt size M\",\n",
    "    \"gray sweatpants\",\n",
    "    \"yellow raincoat waterproof\",\n",
    "    \n",
    "    # Accessories\n",
    "    \"leather wallet black\",\n",
    "    \"sunglasses UV protection\",\n",
    "    \"canvas backpack gray\",\n",
    "    \"silver necklace with pendant\",\n",
    "    \"wool scarf red\",\n",
    "    \"brown leather belt\",\n",
    "    \n",
    "    # Shoes\n",
    "    \"running shoes size 10\",\n",
    "    \"black leather boots\",\n",
    "    \"white sneakers size 9\",\n",
    "    \"blue sandals size 8\",\n",
    "    \"trail running shoes size 11\",\n",
    "    \"formal shoes black\",\n",
    "    \n",
    "    # Sports\n",
    "    \"sports water bottle\",\n",
    "    \"yoga mat non-slip\",\n",
    "    \"tennis racket graphite\",\n",
    "    \"basketball official size\",\n",
    "    \"gym duffel bag\",\n",
    "    \"protein shaker bottle\",\n",
    "    \n",
    "    # Electronics\n",
    "    \"wireless headphones black\",\n",
    "    \"smartphone charger USB-C\",\n",
    "    \"LED monitor 24 inch\",\n",
    "    \"Bluetooth speaker portable\",\n",
    "    \"fitness tracker waterproof\"\n",
    "]\n",
    "\n",
    "# Corresponding categories\n",
    "categories = [\n",
    "    'Clothing', 'Clothing', 'Clothing', 'Clothing', 'Clothing', 'Clothing', 'Clothing', 'Clothing',\n",
    "    'Accessories', 'Accessories', 'Accessories', 'Accessories', 'Accessories', 'Accessories',\n",
    "    'Shoes', 'Shoes', 'Shoes', 'Shoes', 'Shoes', 'Shoes',\n",
    "    'Sports', 'Sports', 'Sports', 'Sports', 'Sports', 'Sports',\n",
    "    'Electronics', 'Electronics', 'Electronics', 'Electronics', 'Electronics'\n",
    "]\n",
    "\n",
    "# split data\n",
    "X_train, X_test, y_train, y_test = train_test_split(products, categories, test_size=0.2, random_state=42, stratify=categories)\n"
   ]
  },
  {
   "cell_type": "markdown",
   "id": "b01b2536",
   "metadata": {},
   "source": [
    "### Create a product categorization Pipeline"
   ]
  },
  {
   "cell_type": "code",
   "execution_count": 40,
   "id": "4174891c",
   "metadata": {},
   "outputs": [
    {
     "name": "stdout",
     "output_type": "stream",
     "text": [
      "Best params: {'classifier__alpha': 0.1, 'vectorizer__max_df': 0.75, 'vectorizer__max_features': 500, 'vectorizer__min_df': 1, 'vectorizer__ngram_range': (1, 1)}\n",
      "Best CV accuracy: 0.4166666666666667\n"
     ]
    }
   ],
   "source": [
    "from sklearn.pipeline import Pipeline\n",
    "from sklearn.feature_extraction.text import TfidfVectorizer\n",
    "from sklearn.naive_bayes import MultinomialNB\n",
    "from sklearn.model_selection import GridSearchCV\n",
    "\n",
    "def create_product_classifier():\n",
    "    return Pipeline([\n",
    "        ('vectorizer', TfidfVectorizer(stop_words='english')),\n",
    "        ('classifier', MultinomialNB())\n",
    "    ])\n",
    "\n",
    "pipeline = create_product_classifier()\n",
    "\n",
    "param_grid = {\n",
    "    'vectorizer__ngram_range': [(1,1), (1,2), (1,3)],\n",
    "    'vectorizer__min_df': [1, 2],\n",
    "    'vectorizer__max_df': [0.75, 0.85, 1.0],\n",
    "    'vectorizer__max_features': [500, 1000, None],\n",
    "    'classifier__alpha': [0.1, 0.5, 1.0]\n",
    "}\n",
    "\n",
    "grid_search = GridSearchCV(pipeline, param_grid, cv=3, scoring='accuracy', n_jobs=-1)\n",
    "grid_search.fit(X_train, y_train)\n",
    "\n",
    "print(\"Best params:\", grid_search.best_params_)\n",
    "print(\"Best CV accuracy:\", grid_search.best_score_)\n",
    "\n"
   ]
  },
  {
   "cell_type": "markdown",
   "id": "f423c6b9",
   "metadata": {},
   "source": [
    "### Evaluate the model"
   ]
  },
  {
   "cell_type": "code",
   "execution_count": 41,
   "id": "dd889c9d",
   "metadata": {},
   "outputs": [
    {
     "name": "stdout",
     "output_type": "stream",
     "text": [
      "Test accuracy: 0.14285714285714285\n",
      "              precision    recall  f1-score   support\n",
      "\n",
      " Accessories       0.00      0.00      0.00         1\n",
      "    Clothing       0.17      0.50      0.25         2\n",
      " Electronics       0.00      0.00      0.00         1\n",
      "       Shoes       0.00      0.00      0.00         1\n",
      "      Sports       0.00      0.00      0.00         2\n",
      "\n",
      "    accuracy                           0.14         7\n",
      "   macro avg       0.03      0.10      0.05         7\n",
      "weighted avg       0.05      0.14      0.07         7\n",
      "\n"
     ]
    },
    {
     "name": "stderr",
     "output_type": "stream",
     "text": [
      "c:\\Users\\ASUS\\anaconda3\\Lib\\site-packages\\sklearn\\metrics\\_classification.py:1509: UndefinedMetricWarning: Precision is ill-defined and being set to 0.0 in labels with no predicted samples. Use `zero_division` parameter to control this behavior.\n",
      "  _warn_prf(average, modifier, f\"{metric.capitalize()} is\", len(result))\n",
      "c:\\Users\\ASUS\\anaconda3\\Lib\\site-packages\\sklearn\\metrics\\_classification.py:1509: UndefinedMetricWarning: Precision is ill-defined and being set to 0.0 in labels with no predicted samples. Use `zero_division` parameter to control this behavior.\n",
      "  _warn_prf(average, modifier, f\"{metric.capitalize()} is\", len(result))\n",
      "c:\\Users\\ASUS\\anaconda3\\Lib\\site-packages\\sklearn\\metrics\\_classification.py:1509: UndefinedMetricWarning: Precision is ill-defined and being set to 0.0 in labels with no predicted samples. Use `zero_division` parameter to control this behavior.\n",
      "  _warn_prf(average, modifier, f\"{metric.capitalize()} is\", len(result))\n"
     ]
    }
   ],
   "source": [
    "model = grid_search.best_estimator_\n",
    "predictions = model.predict(X_test)\n",
    "\n",
    "from sklearn.metrics import accuracy_score, classification_report\n",
    "print(\"Test accuracy:\", accuracy_score(y_test, predictions))\n",
    "print(classification_report(y_test, predictions))"
   ]
  },
  {
   "cell_type": "code",
   "execution_count": 42,
   "id": "05894453",
   "metadata": {},
   "outputs": [
    {
     "name": "stdout",
     "output_type": "stream",
     "text": [
      "Product: white cotton socks pack\n",
      "Predicted Category: Clothing\n",
      "\n",
      "Product: black leather belt\n",
      "Predicted Category: Accessories\n",
      "\n",
      "Product: men's running sneakers size 9\n",
      "Predicted Category: Shoes\n",
      "\n",
      "Product: waterproof sports watch\n",
      "Predicted Category: Sports\n",
      "\n",
      "Product: blue denim jacket\n",
      "Predicted Category: Clothing\n",
      "\n",
      "Product: wireless bluetooth headphones\n",
      "Predicted Category: Electronics\n",
      "\n",
      "Product: kids basketball shoes\n",
      "Predicted Category: Shoes\n",
      "\n",
      "Product: women's wool scarf\n",
      "Predicted Category: Clothing\n",
      "\n",
      "Product: compact digital camera\n",
      "Predicted Category: Clothing\n",
      "\n",
      "Product: outdoor hiking backpack\n",
      "Predicted Category: Accessories\n",
      "\n",
      "Product: leather wallet brown\n",
      "Predicted Category: Accessories\n",
      "\n",
      "Product: yoga mat non-slip\n",
      "Predicted Category: Clothing\n",
      "\n",
      "Product: cotton t-shirt size L\n",
      "Predicted Category: Clothing\n",
      "\n",
      "Product: sports water bottle 1 liter\n",
      "Predicted Category: Sports\n",
      "\n"
     ]
    }
   ],
   "source": [
    "new_products = [\n",
    "    \"white cotton socks pack\",\n",
    "    \"black leather belt\",\n",
    "    \"men's running sneakers size 9\",\n",
    "    \"waterproof sports watch\",\n",
    "    \"blue denim jacket\",\n",
    "    \"wireless bluetooth headphones\",\n",
    "    \"kids basketball shoes\",\n",
    "    \"women's wool scarf\",\n",
    "    \"compact digital camera\",\n",
    "    \"outdoor hiking backpack\",\n",
    "    \"leather wallet brown\",\n",
    "    \"yoga mat non-slip\",\n",
    "    \"cotton t-shirt size L\",\n",
    "    \"sports water bottle 1 liter\"\n",
    "]\n",
    "\n",
    "# Make predictions\n",
    "predictions = model.predict(new_products)\n",
    "\n",
    "# Print results\n",
    "for product, category in zip(new_products, predictions):\n",
    "    print(f\"Product: {product}\")\n",
    "    print(f\"Predicted Category: {category}\\n\")"
   ]
  }
 ],
 "metadata": {
  "kernelspec": {
   "display_name": "base",
   "language": "python",
   "name": "python3"
  },
  "language_info": {
   "codemirror_mode": {
    "name": "ipython",
    "version": 3
   },
   "file_extension": ".py",
   "mimetype": "text/x-python",
   "name": "python",
   "nbconvert_exporter": "python",
   "pygments_lexer": "ipython3",
   "version": "3.12.4"
  }
 },
 "nbformat": 4,
 "nbformat_minor": 5
}
